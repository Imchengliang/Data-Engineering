{
 "cells": [
  {
   "cell_type": "code",
   "execution_count": 2,
   "id": "92ecb91f-1d50-4eef-a972-2da4f3730ce4",
   "metadata": {},
   "outputs": [],
   "source": [
    "from pyspark.sql import SparkSession\n",
    "from operator import add "
   ]
  },
  {
   "cell_type": "code",
   "execution_count": 3,
   "id": "3cb8cbde-4016-4675-a7f1-d35f83b0a322",
   "metadata": {},
   "outputs": [
    {
     "name": "stderr",
     "output_type": "stream",
     "text": [
      "Using Spark's default log4j profile: org/apache/spark/log4j-defaults.properties\n",
      "Setting default log level to \"WARN\".\n",
      "To adjust logging level use sc.setLogLevel(newLevel). For SparkR, use setLogLevel(newLevel).\n",
      "22/03/05 23:32:37 WARN NativeCodeLoader: Unable to load native-hadoop library for your platform... using builtin-java classes where applicable\n",
      "22/03/05 23:32:40 WARN ExecutorAllocationManager: Dynamic allocation without a shuffle service is an experimental feature.\n"
     ]
    }
   ],
   "source": [
    "# New API\n",
    "spark_session = SparkSession\\\n",
    "        .builder\\\n",
    "        .master(\"spark://192.168.2.119:7077\") \\\n",
    "        .appName(\"liang_cheng\")\\\n",
    "        .config(\"spark.executor.cores\",2)\\\n",
    "        .config(\"spark.dynamicAllocation.enabled\", True)\\\n",
    "        .config(\"spark.dynamicAllocation.shuffleTracking.enabled\", True)\\\n",
    "        .config(\"spark.shuffle.service.enabled\", False)\\\n",
    "        .config(\"spark.dynamicAllocation.executorIdleTimeout\",\"30s\")\\\n",
    "        .config(\"spark.driver.port\",9998)\\\n",
    "        .config(\"spark.blockManager.port\",10005)\\\n",
    "        .getOrCreate()"
   ]
  },
  {
   "cell_type": "code",
   "execution_count": 4,
   "id": "5a32c7c4-872b-4f92-8afa-f47c50c828fe",
   "metadata": {},
   "outputs": [],
   "source": [
    "# Old API (RDD)\n",
    "spark_context = spark_session.sparkContext\n",
    "\n",
    "spark_context.setLogLevel(\"ERROR\")"
   ]
  },
  {
   "cell_type": "code",
   "execution_count": 5,
   "id": "235353db-ee2f-4b3b-90bd-175f14e522ff",
   "metadata": {},
   "outputs": [
    {
     "data": {
      "text/html": [
       "\n",
       "        <div>\n",
       "            <p><b>SparkContext</b></p>\n",
       "\n",
       "            <p><a href=\"http://host-192-168-2-86-de1:4040\">Spark UI</a></p>\n",
       "\n",
       "            <dl>\n",
       "              <dt>Version</dt>\n",
       "                <dd><code>v3.2.0</code></dd>\n",
       "              <dt>Master</dt>\n",
       "                <dd><code>spark://192.168.2.119:7077</code></dd>\n",
       "              <dt>AppName</dt>\n",
       "                <dd><code>liang_cheng</code></dd>\n",
       "            </dl>\n",
       "        </div>\n",
       "        "
      ],
      "text/plain": [
       "<SparkContext master=spark://192.168.2.119:7077 appName=liang_cheng>"
      ]
     },
     "execution_count": 5,
     "metadata": {},
     "output_type": "execute_result"
    }
   ],
   "source": [
    "spark_context"
   ]
  },
  {
   "cell_type": "code",
   "execution_count": 13,
   "id": "ca507fdf-608f-4e06-9721-7ec53f3d2759",
   "metadata": {},
   "outputs": [
    {
     "name": "stderr",
     "output_type": "stream",
     "text": [
      "[Stage 7:>                                                          (0 + 2) / 2]\r"
     ]
    },
    {
     "name": "stdout",
     "output_type": "stream",
     "text": [
      "The number of lines in English transcripts:  1862234\n"
     ]
    },
    {
     "name": "stderr",
     "output_type": "stream",
     "text": [
      "                                                                                \r"
     ]
    }
   ],
   "source": [
    "# A.1.1\n",
    "en_count = spark_context.textFile(\"hdfs://192.168.2.119:9000/europarl/europarl-v7.sv-en.en\").count()\n",
    "print(\"The number of lines in English transcripts: \", en_count)"
   ]
  },
  {
   "cell_type": "code",
   "execution_count": 14,
   "id": "60837e4c-9f02-4f6c-b1bc-19c518ead0f2",
   "metadata": {},
   "outputs": [
    {
     "name": "stderr",
     "output_type": "stream",
     "text": [
      "[Stage 8:>                                                          (0 + 2) / 3]\r"
     ]
    },
    {
     "name": "stdout",
     "output_type": "stream",
     "text": [
      "The number of lines in Swedish transcripts:  1862234\n"
     ]
    },
    {
     "name": "stderr",
     "output_type": "stream",
     "text": [
      "                                                                                \r"
     ]
    }
   ],
   "source": [
    "# A.1.2\n",
    "sv_count = spark_context.textFile(\"hdfs://192.168.2.119:9000/europarl/europarl-v7.sv-en.sv\").count()\n",
    "print(\"The number of lines in Swedish transcripts: \", sv_count)"
   ]
  },
  {
   "cell_type": "code",
   "execution_count": 17,
   "id": "76187159-05a2-482b-9a4f-e76ecc632572",
   "metadata": {},
   "outputs": [
    {
     "name": "stdout",
     "output_type": "stream",
     "text": [
      "The line counts are the same for the two languages\n"
     ]
    }
   ],
   "source": [
    "# A.1.3\n",
    "print(\"The line counts are the same for the two languages\" if en_count==sv_count else \"The line counts are the not same for the two languages\")"
   ]
  },
  {
   "cell_type": "code",
   "execution_count": 15,
   "id": "35749a5f-6ba6-43ae-ad0d-64ad7168996a",
   "metadata": {},
   "outputs": [
    {
     "name": "stdout",
     "output_type": "stream",
     "text": [
      "The number of partitions in English transcripts:  2\n",
      "The number of partitions in Swedish transcripts:  3\n"
     ]
    }
   ],
   "source": [
    "# A.1.4\n",
    "print(\"The number of partitions in English transcripts: \", spark_context.textFile(\"hdfs://192.168.2.119:9000/europarl/europarl-v7.sv-en.en\").getNumPartitions())\n",
    "print(\"The number of partitions in Swedish transcripts: \", spark_context.textFile(\"hdfs://192.168.2.119:9000/europarl/europarl-v7.sv-en.sv\").getNumPartitions())"
   ]
  },
  {
   "cell_type": "code",
   "execution_count": 6,
   "id": "368e9db4-ec30-4637-9911-00c10364b8d8",
   "metadata": {},
   "outputs": [],
   "source": [
    "# A.2.1\n",
    "def preProcess(i):\n",
    "    i = i.lower()\n",
    "    #for j in i:\n",
    "    i = i.split(' ')\n",
    "    return i"
   ]
  },
  {
   "cell_type": "code",
   "execution_count": 7,
   "id": "e5f8a851-1084-4a01-9c15-3b6c71b95921",
   "metadata": {},
   "outputs": [
    {
     "name": "stderr",
     "output_type": "stream",
     "text": [
      "                                                                                \r"
     ]
    },
    {
     "name": "stdout",
     "output_type": "stream",
     "text": [
      "new English: \n",
      " [['resumption', 'of', 'the', 'session'], ['i', 'declare', 'resumed', 'the', 'session', 'of', 'the', 'european', 'parliament', 'adjourned', 'on', 'friday', '17', 'december', '1999,', 'and', 'i', 'would', 'like', 'once', 'again', 'to', 'wish', 'you', 'a', 'happy', 'new', 'year', 'in', 'the', 'hope', 'that', 'you', 'enjoyed', 'a', 'pleasant', 'festive', 'period.'], ['although,', 'as', 'you', 'will', 'have', 'seen,', 'the', 'dreaded', \"'millennium\", \"bug'\", 'failed', 'to', 'materialise,', 'still', 'the', 'people', 'in', 'a', 'number', 'of', 'countries', 'suffered', 'a', 'series', 'of', 'natural', 'disasters', 'that', 'truly', 'were', 'dreadful.'], ['you', 'have', 'requested', 'a', 'debate', 'on', 'this', 'subject', 'in', 'the', 'course', 'of', 'the', 'next', 'few', 'days,', 'during', 'this', 'part-session.'], ['in', 'the', 'meantime,', 'i', 'should', 'like', 'to', 'observe', 'a', \"minute'\", 's', 'silence,', 'as', 'a', 'number', 'of', 'members', 'have', 'requested,', 'on', 'behalf', 'of', 'all', 'the', 'victims', 'concerned,', 'particularly', 'those', 'of', 'the', 'terrible', 'storms,', 'in', 'the', 'various', 'countries', 'of', 'the', 'european', 'union.'], ['please', 'rise,', 'then,', 'for', 'this', \"minute'\", 's', 'silence.'], ['(the', 'house', 'rose', 'and', 'observed', 'a', \"minute'\", 's', 'silence)'], ['madam', 'president,', 'on', 'a', 'point', 'of', 'order.'], ['you', 'will', 'be', 'aware', 'from', 'the', 'press', 'and', 'television', 'that', 'there', 'have', 'been', 'a', 'number', 'of', 'bomb', 'explosions', 'and', 'killings', 'in', 'sri', 'lanka.'], ['one', 'of', 'the', 'people', 'assassinated', 'very', 'recently', 'in', 'sri', 'lanka', 'was', 'mr', 'kumar', 'ponnambalam,', 'who', 'had', 'visited', 'the', 'european', 'parliament', 'just', 'a', 'few', 'months', 'ago.']]\n",
      "new Swedish: \n",
      " [['återupptagande', 'av', 'sessionen'], ['jag', 'förklarar', 'europaparlamentets', 'session', 'återupptagen', 'efter', 'avbrottet', 'den', '17', 'december.', 'jag', 'vill', 'på', 'nytt', 'önska', 'er', 'ett', 'gott', 'nytt', 'år', 'och', 'jag', 'hoppas', 'att', 'ni', 'haft', 'en', 'trevlig', 'semester.'], ['som', 'ni', 'kunnat', 'konstatera', 'ägde', '\"den', 'stora', 'år', '2000-buggen\"', 'aldrig', 'rum.', 'däremot', 'har', 'invånarna', 'i', 'ett', 'antal', 'av', 'våra', 'medlemsländer', 'drabbats', 'av', 'naturkatastrofer', 'som', 'verkligen', 'varit', 'förskräckliga.'], ['ni', 'har', 'begärt', 'en', 'debatt', 'i', 'ämnet', 'under', 'sammanträdesperiodens', 'kommande', 'dagar.'], ['till', 'dess', 'vill', 'jag', 'att', 'vi,', 'som', 'ett', 'antal', 'kolleger', 'begärt,', 'håller', 'en', 'tyst', 'minut', 'för', 'offren', 'för', 'bl.a.', 'stormarna', 'i', 'de', 'länder', 'i', 'europeiska', 'unionen', 'som', 'drabbats.'], ['jag', 'ber', 'er', 'resa', 'er', 'för', 'en', 'tyst', 'minut.'], ['(parlamentet', 'höll', 'en', 'tyst', 'minut.)'], ['fru', 'talman!', 'det', 'gäller', 'en', 'ordningsfråga.'], ['ni', 'känner', 'till', 'från', 'media', 'att', 'det', 'skett', 'en', 'rad', 'bombexplosioner', 'och', 'mord', 'i', 'sri', 'lanka.'], ['en', 'av', 'de', 'personer', 'som', 'mycket', 'nyligen', 'mördades', 'i', 'sri', 'lanka', 'var', 'kumar', 'ponnambalam,', 'som', 'besökte', 'europaparlamentet', 'för', 'bara', 'några', 'månader', 'sedan.']]\n"
     ]
    }
   ],
   "source": [
    "# A.2.2\n",
    "new_en = spark_context.textFile(\"hdfs://192.168.2.119:9000/europarl/europarl-v7.sv-en.en\").map(preProcess)\n",
    "print(\"new English: \\n\", new_en.take(10))\n",
    "new_sv = spark_context.textFile(\"hdfs://192.168.2.119:9000/europarl/europarl-v7.sv-en.sv\").map(preProcess)\n",
    "print(\"new Swedish: \\n\", new_sv.take(10))"
   ]
  },
  {
   "cell_type": "code",
   "execution_count": 31,
   "id": "07b924b2-21cd-46b1-9dbb-5d986129a906",
   "metadata": {},
   "outputs": [
    {
     "name": "stderr",
     "output_type": "stream",
     "text": [
      "[Stage 21:>                                                         (0 + 2) / 2]\r"
     ]
    },
    {
     "name": "stdout",
     "output_type": "stream",
     "text": [
      "The line counts are still the same for the two languages, the number of lines both are  1862234\n"
     ]
    },
    {
     "name": "stderr",
     "output_type": "stream",
     "text": [
      "                                                                                \r"
     ]
    }
   ],
   "source": [
    "# A.2.3\n",
    "print(\"The line counts are still the same for the two languages, the number of lines both are \", new_en.count() if new_en.count()==new_sv.count() else \"The line counts are not the same for the two languages\")"
   ]
  },
  {
   "cell_type": "code",
   "execution_count": 38,
   "id": "f998445e-ae40-4c46-b13f-fe5d67ce749c",
   "metadata": {},
   "outputs": [
    {
     "name": "stderr",
     "output_type": "stream",
     "text": [
      "                                                                                \r"
     ]
    },
    {
     "name": "stdout",
     "output_type": "stream",
     "text": [
      "Top 10 English: \n",
      " [('the', 3498452), ('of', 1659758), ('to', 1539760), ('and', 1288402), ('in', 1085994), ('that', 797519), ('a', 773522), ('is', 758050), ('for', 534242), ('we', 522851)]\n"
     ]
    },
    {
     "name": "stderr",
     "output_type": "stream",
     "text": [
      "[Stage 31:======================================>                   (2 + 1) / 3]\r"
     ]
    },
    {
     "name": "stdout",
     "output_type": "stream",
     "text": [
      "Top 10 Swedish: \n",
      " [('att', 1706293), ('och', 1344830), ('i', 1050774), ('det', 924868), ('som', 913276), ('för', 908680), ('av', 738068), ('är', 694381), ('en', 620310), ('vi', 539797)]\n"
     ]
    },
    {
     "name": "stderr",
     "output_type": "stream",
     "text": [
      "                                                                                \r"
     ]
    }
   ],
   "source": [
    "# A.3.1\n",
    "all_en = spark_context.textFile(\"hdfs://192.168.2.119:9000/europarl/europarl-v7.sv-en.en\").flatMap(preProcess)\n",
    "all_en_and_count = all_en.map(lambda w: w.strip())\\\n",
    "    .map(lambda w: (w,1))\n",
    "en_counts = all_en_and_count.reduceByKey(add)\n",
    "print(\"Top 10 English: \\n\", en_counts.takeOrdered(10, key=lambda x: -x[1]))\n",
    "\n",
    "all_sv = spark_context.textFile(\"hdfs://192.168.2.119:9000/europarl/europarl-v7.sv-en.sv\").flatMap(preProcess)\n",
    "all_sv_and_count = all_sv.map(lambda w: w.strip())\\\n",
    "    .map(lambda w: (w,1))\n",
    "sv_counts = all_sv_and_count.reduceByKey(add)\n",
    "print(\"Top 10 Swedish: \\n\", sv_counts.takeOrdered(10, key=lambda x: -x[1]))"
   ]
  },
  {
   "cell_type": "code",
   "execution_count": 8,
   "id": "22d6e294-0080-460b-9bf2-fb3d71206bce",
   "metadata": {},
   "outputs": [
    {
     "name": "stderr",
     "output_type": "stream",
     "text": [
      "                                                                                \r"
     ]
    },
    {
     "name": "stdout",
     "output_type": "stream",
     "text": [
      "English with index: \n",
      " [(['resumption', 'of', 'the', 'session'], 0), (['i', 'declare', 'resumed', 'the', 'session', 'of', 'the', 'european', 'parliament', 'adjourned', 'on', 'friday', '17', 'december', '1999,', 'and', 'i', 'would', 'like', 'once', 'again', 'to', 'wish', 'you', 'a', 'happy', 'new', 'year', 'in', 'the', 'hope', 'that', 'you', 'enjoyed', 'a', 'pleasant', 'festive', 'period.'], 1), (['although,', 'as', 'you', 'will', 'have', 'seen,', 'the', 'dreaded', \"'millennium\", \"bug'\", 'failed', 'to', 'materialise,', 'still', 'the', 'people', 'in', 'a', 'number', 'of', 'countries', 'suffered', 'a', 'series', 'of', 'natural', 'disasters', 'that', 'truly', 'were', 'dreadful.'], 2), (['you', 'have', 'requested', 'a', 'debate', 'on', 'this', 'subject', 'in', 'the', 'course', 'of', 'the', 'next', 'few', 'days,', 'during', 'this', 'part-session.'], 3)]\n",
      "Swedish with index: \n",
      " [(['återupptagande', 'av', 'sessionen'], 0), (['jag', 'förklarar', 'europaparlamentets', 'session', 'återupptagen', 'efter', 'avbrottet', 'den', '17', 'december.', 'jag', 'vill', 'på', 'nytt', 'önska', 'er', 'ett', 'gott', 'nytt', 'år', 'och', 'jag', 'hoppas', 'att', 'ni', 'haft', 'en', 'trevlig', 'semester.'], 1), (['som', 'ni', 'kunnat', 'konstatera', 'ägde', '\"den', 'stora', 'år', '2000-buggen\"', 'aldrig', 'rum.', 'däremot', 'har', 'invånarna', 'i', 'ett', 'antal', 'av', 'våra', 'medlemsländer', 'drabbats', 'av', 'naturkatastrofer', 'som', 'verkligen', 'varit', 'förskräckliga.'], 2), (['ni', 'har', 'begärt', 'en', 'debatt', 'i', 'ämnet', 'under', 'sammanträdesperiodens', 'kommande', 'dagar.'], 3)]\n"
     ]
    }
   ],
   "source": [
    "# A.4.1\n",
    "en_1 = new_en.zipWithIndex()\n",
    "sv_1 = new_sv.zipWithIndex()\n",
    "print(\"English with index: \\n\", en_1.take(4))\n",
    "print(\"Swedish with index: \\n\", sv_1.take(4))"
   ]
  },
  {
   "cell_type": "code",
   "execution_count": 10,
   "id": "560ec9e5-8953-4367-8c5c-2a727d7e2562",
   "metadata": {},
   "outputs": [
    {
     "name": "stdout",
     "output_type": "stream",
     "text": [
      "English with index: \n",
      " [(0, ['resumption', 'of', 'the', 'session']), (1, ['i', 'declare', 'resumed', 'the', 'session', 'of', 'the', 'european', 'parliament', 'adjourned', 'on', 'friday', '17', 'december', '1999,', 'and', 'i', 'would', 'like', 'once', 'again', 'to', 'wish', 'you', 'a', 'happy', 'new', 'year', 'in', 'the', 'hope', 'that', 'you', 'enjoyed', 'a', 'pleasant', 'festive', 'period.']), (2, ['although,', 'as', 'you', 'will', 'have', 'seen,', 'the', 'dreaded', \"'millennium\", \"bug'\", 'failed', 'to', 'materialise,', 'still', 'the', 'people', 'in', 'a', 'number', 'of', 'countries', 'suffered', 'a', 'series', 'of', 'natural', 'disasters', 'that', 'truly', 'were', 'dreadful.'])]\n",
      "Swedish with index: \n",
      " [(0, ['återupptagande', 'av', 'sessionen']), (1, ['jag', 'förklarar', 'europaparlamentets', 'session', 'återupptagen', 'efter', 'avbrottet', 'den', '17', 'december.', 'jag', 'vill', 'på', 'nytt', 'önska', 'er', 'ett', 'gott', 'nytt', 'år', 'och', 'jag', 'hoppas', 'att', 'ni', 'haft', 'en', 'trevlig', 'semester.']), (2, ['som', 'ni', 'kunnat', 'konstatera', 'ägde', '\"den', 'stora', 'år', '2000-buggen\"', 'aldrig', 'rum.', 'däremot', 'har', 'invånarna', 'i', 'ett', 'antal', 'av', 'våra', 'medlemsländer', 'drabbats', 'av', 'naturkatastrofer', 'som', 'verkligen', 'varit', 'förskräckliga.'])]\n"
     ]
    }
   ],
   "source": [
    "# A.4.2\n",
    "en_2 = en_1.map(lambda x:(x[1], x[0]))\n",
    "sv_2 = sv_1.map(lambda x:(x[1], x[0]))\n",
    "print(\"English with index: \\n\", en_2.take(3))\n",
    "print(\"Swedish with index: \\n\", sv_2.take(3))"
   ]
  },
  {
   "cell_type": "code",
   "execution_count": 12,
   "id": "e86296e1-adf6-459b-b4f7-ab1f0c3377f7",
   "metadata": {},
   "outputs": [
    {
     "name": "stderr",
     "output_type": "stream",
     "text": [
      "[Stage 11:>                                                         (0 + 1) / 1]\r"
     ]
    },
    {
     "name": "stdout",
     "output_type": "stream",
     "text": [
      "English join Swedish on index: \n",
      " [(375, (['this', 'means', 'that', 'there', 'must', 'be', 'a', 'comprehensive', 'partnership', 'between', 'local', 'authorities', 'and', 'national', 'governments', 'with', 'regard', 'to', 'how', 'these', 'funds', 'are', 'to', 'be', 'spent.'], ['detta', 'innebär', 'att', 'det', 'måste', 'råda', 'ett', 'heltäckande', 'partnerskap', 'mellan', 'lokala', 'myndigheter', 'och', 'nationella', 'regeringar', 'med', 'hänsyn', 'till', 'hur', 'dessa', 'medel', 'skall', 'användas.'])), (480, (['the', 'european', \"commission'\", 's', 'sixth', 'report', 'presents', 'very', 'valuable', 'conclusions.'], ['europeiska', 'kommissionens', 'sjätte', 'rapport', 'innehåller', 'värdefulla', 'slutsatser.'])), (915, (['if', 'this', 'comes', 'to', 'nothing,', 'then', 'the', 'government', 'has', 'to', 'step', 'in.'], ['om', 'denna', 'ansträngning', 'misslyckas', 'måste', 'en', 'statsmakt', 'ingripa.'])), (1735, (['(pt)', 'by', 'proposing', 'to', 'apply', 'the', 'principle', 'of', 'subsidiarity', 'in', 'community', 'competition', 'policy,', 'the', 'commission', 'is', 'devolving', 'to', 'national', 'authorities', 'and', 'courts', 'the', 'responsibility', 'to', 'take', 'decisions', 'and', 'deal', 'with', 'abuses', 'of', 'dominant', 'positions', 'in', 'relation', 'to', 'company', 'agreements', 'which', 'create', 'market', 'distortion.', 'issues', 'of', 'mergers', 'and', 'state', 'aid', 'however,', 'still', 'remain', 'within', 'the', 'notification', 'system.'], ['-', '(pt)', 'när', 'kommissionen', 'försöker', 'tillämpa', 'subsidiaritetsprincipen', 'på', 'gemenskapens', 'konkurrenspolitik,', 'decentraliserar', 'man', 'ansvaret', 'för', 'beslut', 'och', 'missbruk', 'av', 'dominerande', 'ställning', 'vad', 'gäller', 'företagsavtal', 'som', 'skapar', 'snedvridning', 'på', 'marknaden,', 'till', 'nationella', 'myndigheter', 'och', 'domstolar', 'även', 'om', 'de', 'fortfarande', 'hör', 'till', 'anmälningssystemet', 'för', 'frågor', 'om', 'företagskoncentration', 'och', 'statligt', 'stöd.']))]\n"
     ]
    },
    {
     "name": "stderr",
     "output_type": "stream",
     "text": [
      "                                                                                \r"
     ]
    }
   ],
   "source": [
    "# A.4.3\n",
    "en_join_sv = en_2.join(sv_2)\n",
    "print(\"English join Swedish on index: \\n\", en_join_sv.take(4))"
   ]
  },
  {
   "cell_type": "code",
   "execution_count": 13,
   "id": "bb77e163-5d95-4202-bbe0-9fc9c2ab4232",
   "metadata": {},
   "outputs": [
    {
     "name": "stderr",
     "output_type": "stream",
     "text": [
      "[Stage 13:>                                                         (0 + 1) / 1]\r"
     ]
    },
    {
     "name": "stdout",
     "output_type": "stream",
     "text": [
      "words don't begin with empty: \n",
      " [(189755, (['i', 'welcome', 'this,', 'especially', 'since', 'we', 'have', 'ended', 'up', 'with', 'a', 'budget', 'surplus', 'of', 'some', 'eur', '11', 'billion.'], ['det', 'anser', 'jag', 'vara', 'någonting', 'positivt,', 'i', 'synnerhet', 'eftersom', 'vi', 'hade', 'omkring', '11', 'miljarder', 'euro', 'kvar', 'av', 'budgeten', 'förra', 'året.'])), (512085, (['\\xa0\\xa0', 'mr', 'president,', 'doping', 'is', 'the', 'cancer', 'of', 'modern', 'sports.'], ['\\xa0\\xa0', '–', 'herr', 'talman!', 'dopning', 'är', 'den', 'moderna', 'idrottens', 'cancer.'])), (764580, (['but', 'as', 'i', 'said', 'in', 'the', 'beginning,', 'we', 'will', 'strive', 'to', 'make', 'as', 'much', 'information', 'as', 'possible', 'available', 'before', '15', 'november', 'and', 'before', 'the', 'final', 'conciliation', 'with', 'both', 'arms', 'of', 'the', 'budgetary', 'authority,', 'so', 'as', 'to', 'be', 'able', 'to', 'lift', 'as', 'much', 'as', 'we', 'can.'], ['men', 'som', 'jag', 'sa', 'i', 'inledningen', 'kommer', 'vi', 'att', 'arbeta', 'för', 'att', 'så', 'mycket', 'information', 'som', 'möjligt', 'ska', 'kunna', 'tillhandahållas', 'före', 'den', '15', 'november', 'och', 'före', 'den', 'avslutande', 'förlikningen', 'mellan', 'budgetmyndighetens', 'båda', 'grenar,', 'så', 'att', 'vi', 'ska', 'kunna', 'frigöra', 'så', 'mycket', 'som', 'vi', 'kan.'])), (8020, (['madam', 'president,', 'i', 'am', 'speaking', 'on', 'behalf', 'of', 'the', 'italian', 'radical', 'members.'], ['fru', 'talman!', 'jag', 'skall', 'tala', 'för', 'de', 'radikala', 'italienska', 'ledamöterna.']))]\n"
     ]
    },
    {
     "name": "stderr",
     "output_type": "stream",
     "text": [
      "                                                                                \r"
     ]
    }
   ],
   "source": [
    "# A.4.4\n",
    "en_sv_4 = en_join_sv.filter(lambda x: x[1][0] != [''] and x[1][1] != [''])\n",
    "print(\"words don't begin with empty: \\n\", en_sv_4.take(4))"
   ]
  },
  {
   "cell_type": "code",
   "execution_count": 14,
   "id": "6fe4e610-f8be-49fa-a5cb-a1454783ee0b",
   "metadata": {},
   "outputs": [
    {
     "name": "stderr",
     "output_type": "stream",
     "text": [
      "[Stage 15:>                                                         (0 + 1) / 1]\r"
     ]
    },
    {
     "name": "stdout",
     "output_type": "stream",
     "text": [
      "number of words less than 10: \n",
      " [(512085, (['\\xa0\\xa0', 'mr', 'president,', 'doping', 'is', 'the', 'cancer', 'of', 'modern', 'sports.'], ['\\xa0\\xa0', '–', 'herr', 'talman!', 'dopning', 'är', 'den', 'moderna', 'idrottens', 'cancer.'])), (130725, (['a', 'democracy', 'has', 'independent', 'supervisory', 'agencies.'], ['det', 'är', 'ett', 'bidrag', 'till', 'säkerheten.'])), (149540, (['i', 'thank', 'parliament', 'and', 'the', 'rapporteur', 'very', 'much', 'indeed.'], ['jag', 'tackar', 'parlamentet', 'och', 'föredraganden', 'så', 'mycket.'])), (167810, (['i', 'just', 'wanted', 'to', 'point', 'that', 'out.'], ['jag', 'ville', 'göra', 'er', 'uppmärksamma', 'på', 'det.']))]\n"
     ]
    },
    {
     "name": "stderr",
     "output_type": "stream",
     "text": [
      "                                                                                \r"
     ]
    }
   ],
   "source": [
    "# A.4.5\n",
    "en_sv_5 = en_sv_4.filter(lambda x: len(x[1][0]) <= 10 and len(x[1][1]) <= 10)\n",
    "print(\"number of words less than 10: \\n\", en_sv_5.take(4))"
   ]
  },
  {
   "cell_type": "code",
   "execution_count": 15,
   "id": "c665916e-8474-4cb6-9857-624c3084cc83",
   "metadata": {},
   "outputs": [
    {
     "name": "stderr",
     "output_type": "stream",
     "text": [
      "[Stage 17:>                                                         (0 + 1) / 1]\r"
     ]
    },
    {
     "name": "stdout",
     "output_type": "stream",
     "text": [
      "English has same words as Swdish: \n",
      " [(40530, (['mr', 'swoboda,', 'the', 'vote', 'is', 'scheduled', 'for', 'tomorrow', 'morning.'], ['ledamot', 'swoboda!', 'omröstningen', 'är', 'planerad', 'till', 'tidigt', 'i', 'morgon.'])), (63570, (['it', 'is', 'a', 'question', 'of', 'respecting', 'national', 'sovereignty.'], ['det', 'handlar', 'om', 'att', 'respektera', 'den', 'nationella', 'suveräniteten.'])), (78155, (['the', 'debate', 'is', 'closed.'], ['jag', 'förklarar', 'debatten', 'avslutad.'])), (86465, (['this', 'was', 'also', 'untrue.'], ['detta', 'var', 'också', 'osant.']))]\n"
     ]
    },
    {
     "name": "stderr",
     "output_type": "stream",
     "text": [
      "                                                                                \r"
     ]
    }
   ],
   "source": [
    "# A.4.6\n",
    "en_sv_6 = en_sv_5.filter(lambda x: len(x[1][0]) == len(x[1][1]))\n",
    "print(\"English has same words as Swedish: \\n\", en_sv_6.take(4))"
   ]
  },
  {
   "cell_type": "code",
   "execution_count": 16,
   "id": "c15d2936-82dd-4e9f-9f1d-a3bcd79e33f3",
   "metadata": {},
   "outputs": [
    {
     "name": "stderr",
     "output_type": "stream",
     "text": [
      "[Stage 19:>                                                         (0 + 1) / 1]\r"
     ]
    },
    {
     "name": "stdout",
     "output_type": "stream",
     "text": [
      "English zip with Swedish: \n",
      " [[('we', 'vi'), ('know', 'vet'), ('that', 'att'), ('you', 'ni'), ('have', 'har'), ('an', 'en'), ('important', 'viktig'), ('role', 'roll'), ('in', 'i'), ('this.', 'detta.')], [('germany', 'till'), ('has', 'och'), ('acknowledged', 'från'), ('its', 'har'), ('obligation', 'tyskland'), ('from', 'erkänt'), ('time', 'denna'), ('to', 'sin'), ('time.', 'skyldighet.')], [('the', 'de'), ('challenges', 'utmaningar'), ('faced', 'som'), ('by', 'eu'), ('the', 'står'), ('eu', 'inför'), ('are', 'är'), ('exciting', 'spännande'), ('and', 'och'), ('historic.', 'historiska.')], [('-', 'jag'), ('thank', 'tackar'), ('you,', 'er,'), ('mr', 'herr'), ('oostlander.', 'oostlander.')]]\n"
     ]
    },
    {
     "name": "stderr",
     "output_type": "stream",
     "text": [
      "                                                                                \r"
     ]
    }
   ],
   "source": [
    "# A.4.7\n",
    "en_sv_7 = en_sv_6.map(lambda x: list(zip(x[1][0],x[1][1])))\n",
    "print(\"English zip with Swedish: \\n\", en_sv_7.take(4))"
   ]
  },
  {
   "cell_type": "code",
   "execution_count": 17,
   "id": "6f7224df-b80d-498a-8dd6-79bf9ac07bed",
   "metadata": {},
   "outputs": [
    {
     "name": "stderr",
     "output_type": "stream",
     "text": [
      "[Stage 21:==============================================>           (4 + 1) / 5]\r"
     ]
    },
    {
     "name": "stdout",
     "output_type": "stream",
     "text": [
      "the number of occurrences of the word-translation-pairs:  494715\n"
     ]
    },
    {
     "name": "stderr",
     "output_type": "stream",
     "text": [
      "                                                                                \r"
     ]
    }
   ],
   "source": [
    "# A.4.8\n",
    "word_pairs_count = en_sv_7.map(lambda wp: len(wp)).reduce(add)\n",
    "print(\"the number of occurrences of the word-translation-pairs: \", word_pairs_count)"
   ]
  },
  {
   "cell_type": "code",
   "execution_count": 19,
   "id": "add962b7-b050-4301-84d7-8e3179964428",
   "metadata": {},
   "outputs": [
    {
     "name": "stderr",
     "output_type": "stream",
     "text": [
      "                                                                                \r"
     ]
    },
    {
     "name": "stdout",
     "output_type": "stream",
     "text": [
      "Top 10 zip: \n",
      " [(('is', 'är'), 11221), (('we', 'vi'), 6594), (('i', 'jag'), 6123), (('and', 'och'), 3926), (('this', 'detta'), 3782), (('a', 'en'), 3496), (('it', 'det'), 3416), (('not', 'inte'), 3097), (('that', 'det'), 3042), (('closed.', 'avslutad.'), 2964)]\n"
     ]
    }
   ],
   "source": [
    "# A.4.9\n",
    "en_sv_9 = en_sv_6.flatMap(lambda x: list(zip(x[1][0], x[1][1]))).map(lambda x:(x,1))\n",
    "freq = en_sv_9.reduceByKey(add).sortBy(lambda x:x[1], False).take(10)\n",
    "print(\"Top 10 zip: \\n\", freq)"
   ]
  },
  {
   "cell_type": "code",
   "execution_count": null,
   "id": "74e8d083-695b-433a-9f94-0c2442e93359",
   "metadata": {},
   "outputs": [],
   "source": [
    "spark_context.stop()"
   ]
  }
 ],
 "metadata": {
  "kernelspec": {
   "display_name": "Python 3 (ipykernel)",
   "language": "python",
   "name": "python3"
  },
  "language_info": {
   "codemirror_mode": {
    "name": "ipython",
    "version": 3
   },
   "file_extension": ".py",
   "mimetype": "text/x-python",
   "name": "python",
   "nbconvert_exporter": "python",
   "pygments_lexer": "ipython3",
   "version": "3.8.10"
  }
 },
 "nbformat": 4,
 "nbformat_minor": 5
}
